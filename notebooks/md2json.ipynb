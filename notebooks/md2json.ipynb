{
 "cells": [
  {
   "cell_type": "code",
   "execution_count": 1,
   "metadata": {},
   "outputs": [],
   "source": [
    "import re\n",
    "import json"
   ]
  },
  {
   "cell_type": "code",
   "execution_count": 4,
   "metadata": {},
   "outputs": [],
   "source": [
    "def markdown_to_json(markdown_file, json_file):\n",
    "    with open(markdown_file, 'r', encoding='utf-8') as f:\n",
    "        content = f.read()\n",
    "\n",
    "    # Initialize the JSON structure\n",
    "    document = {}\n",
    "    current_section = document\n",
    "    stack = [document]\n",
    "    \n",
    "    # Split the content into lines\n",
    "    lines = content.split('\\n')\n",
    "    \n",
    "    headers = []\n",
    "    table = None\n",
    "    \n",
    "    for line in lines:\n",
    "        # Check for headings\n",
    "        heading_match = re.match(r'^(#+)\\s+(.+)$', line)\n",
    "        if heading_match:\n",
    "            level = len(heading_match.group(1))\n",
    "            text = heading_match.group(2)\n",
    "            \n",
    "            # Adjust the stack based on the heading level\n",
    "            while len(stack) > level:\n",
    "                stack.pop()\n",
    "            \n",
    "            # Create a new section for the heading\n",
    "            new_section = {}\n",
    "            stack[-1][text] = new_section\n",
    "            stack.append(new_section)\n",
    "            current_section = new_section\n",
    "            continue\n",
    "        \n",
    "        # Check for table headers\n",
    "        if '|' in line and '-|-' in next(iter(lines[lines.index(line)+1:]), ''):\n",
    "            headers = [header.strip() for header in line.split('|') if header.strip()]\n",
    "            table = []\n",
    "            current_section['table'] = table\n",
    "            continue\n",
    "        \n",
    "        # Check for table rows\n",
    "        if '|' in line and table is not None and headers:\n",
    "            row_data = [cell.strip() for cell in line.split('|') if cell.strip()]\n",
    "            if len(row_data) == len(headers):\n",
    "                row = dict(zip(headers, row_data))\n",
    "                table.append(row)\n",
    "            continue\n",
    "        \n",
    "        # Regular text content\n",
    "        if line.strip():\n",
    "            if 'paragraphs' not in current_section:\n",
    "                current_section['paragraphs'] = []\n",
    "            current_section['paragraphs'].append(line.strip())\n",
    "        \n",
    "        # Reset table and headers if we're not in a table anymore\n",
    "        if '|' not in line:\n",
    "            table = None\n",
    "            headers = []\n",
    "\n",
    "    # Write the JSON to a file\n",
    "    with open(json_file, 'w', encoding='utf-8') as f:\n",
    "        json.dump(document, f, indent=2, ensure_ascii=False)"
   ]
  },
  {
   "cell_type": "code",
   "execution_count": 5,
   "metadata": {},
   "outputs": [],
   "source": [
    "# Usage\n",
    "markdown_to_json('/Users/luke.thompson/git/protocols/protocol_PCR_16S_V4V5.md', 'test.json')\n"
   ]
  },
  {
   "cell_type": "code",
   "execution_count": null,
   "metadata": {},
   "outputs": [],
   "source": []
  }
 ],
 "metadata": {
  "kernelspec": {
   "display_name": "pandas",
   "language": "python",
   "name": "python3"
  },
  "language_info": {
   "codemirror_mode": {
    "name": "ipython",
    "version": 3
   },
   "file_extension": ".py",
   "mimetype": "text/x-python",
   "name": "python",
   "nbconvert_exporter": "python",
   "pygments_lexer": "ipython3",
   "version": "3.11.5"
  }
 },
 "nbformat": 4,
 "nbformat_minor": 2
}
