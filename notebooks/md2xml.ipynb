{
 "cells": [
  {
   "cell_type": "code",
   "execution_count": 1,
   "metadata": {},
   "outputs": [],
   "source": [
    "import re\n",
    "import xml.etree.ElementTree as ET\n",
    "from xml.dom import minidom"
   ]
  },
  {
   "cell_type": "code",
   "execution_count": 5,
   "metadata": {},
   "outputs": [],
   "source": [
    "def markdown_to_xml(markdown_file, xml_file):\n",
    "    with open(markdown_file, 'r', encoding='utf-8') as f:\n",
    "        content = f.read()\n",
    "\n",
    "    # Create the root element\n",
    "    root = ET.Element(\"document\")\n",
    "    current_element = root\n",
    "    stack = [root]\n",
    "    \n",
    "    # Split the content into lines\n",
    "    lines = content.split('\\n')\n",
    "    \n",
    "    headers = []\n",
    "    table = None\n",
    "    \n",
    "    for line in lines:\n",
    "        # Check for headings\n",
    "        heading_match = re.match(r'^(#+)\\s+(.+)$', line)\n",
    "        if heading_match:\n",
    "            level = len(heading_match.group(1))\n",
    "            text = heading_match.group(2)\n",
    "            \n",
    "            # Adjust the stack based on the heading level\n",
    "            while len(stack) > level:\n",
    "                stack.pop()\n",
    "            \n",
    "            # Create a new element for the heading\n",
    "            new_element = ET.SubElement(stack[-1], f\"section{level}\")\n",
    "            new_element.set(\"title\", text)\n",
    "            \n",
    "            stack.append(new_element)\n",
    "            current_element = new_element\n",
    "            continue\n",
    "        \n",
    "        # Check for table headers\n",
    "        if '|' in line and '-|-' in next(iter(lines[lines.index(line)+1:]), ''):\n",
    "            headers = [header.strip() for header in line.split('|') if header.strip()]\n",
    "            table = ET.SubElement(current_element, \"table\")\n",
    "            continue\n",
    "        \n",
    "        # Check for table rows\n",
    "        if '|' in line and table is not None and headers:\n",
    "            row_data = [cell.strip() for cell in line.split('|') if cell.strip()]\n",
    "            if len(row_data) == len(headers):\n",
    "                row = ET.SubElement(table, \"row\")\n",
    "                for header, value in zip(headers, row_data):\n",
    "                    cell = ET.SubElement(row, header)\n",
    "                    cell.text = value\n",
    "            continue\n",
    "        \n",
    "        # Regular text content\n",
    "        if line.strip():\n",
    "            para = ET.SubElement(current_element, \"paragraph\")\n",
    "            para.text = line.strip()\n",
    "        \n",
    "        # Reset table and headers if we're not in a table anymore\n",
    "        if '|' not in line:\n",
    "            table = None\n",
    "            headers = []\n",
    "\n",
    "    # Create a formatted XML string\n",
    "    rough_string = ET.tostring(root, 'utf-8')\n",
    "    reparsed = minidom.parseString(rough_string)\n",
    "    pretty_xml = reparsed.toprettyxml(indent=\"  \")\n",
    "\n",
    "    # Write the XML to a file\n",
    "    with open(xml_file, 'w', encoding='utf-8') as f:\n",
    "        f.write(pretty_xml)"
   ]
  },
  {
   "cell_type": "code",
   "execution_count": 6,
   "metadata": {},
   "outputs": [],
   "source": [
    "# Usage\n",
    "markdown_to_xml('/Users/luke.thompson/git/protocols/protocol_PCR_16S_V4V5.md', 'test.xml')\n"
   ]
  },
  {
   "cell_type": "code",
   "execution_count": null,
   "metadata": {},
   "outputs": [],
   "source": []
  }
 ],
 "metadata": {
  "kernelspec": {
   "display_name": "pandas",
   "language": "python",
   "name": "python3"
  },
  "language_info": {
   "codemirror_mode": {
    "name": "ipython",
    "version": 3
   },
   "file_extension": ".py",
   "mimetype": "text/x-python",
   "name": "python",
   "nbconvert_exporter": "python",
   "pygments_lexer": "ipython3",
   "version": "3.11.5"
  }
 },
 "nbformat": 4,
 "nbformat_minor": 2
}
